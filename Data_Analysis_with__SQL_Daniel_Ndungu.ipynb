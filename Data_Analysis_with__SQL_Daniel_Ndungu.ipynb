{
  "nbformat": 4,
  "nbformat_minor": 0,
  "metadata": {
    "colab": {
      "name": "Data_Analysis_with__SQL_Daniel_Ndungu.ipynb",
      "provenance": [],
      "collapsed_sections": []
    },
    "kernelspec": {
      "name": "python3",
      "display_name": "Python 3"
    },
    "language_info": {
      "name": "python"
    }
  },
  "cells": [
    {
      "cell_type": "markdown",
      "source": [
        "**Instructions**\n",
        "\n",
        "\n",
        "Over the past few years, ride-sharing apps have been on the rise across many cities in the world. \n",
        "While this has happened, Uber and Lyft's ride prices are not constant like\n",
        "public transport. They are greatly affected by the demand and supply of rides at a given time.\n",
        "As a Data Scientist working to understand this market, you have been tasked to come up with a descriptive analysis report to help a Ride-Sharing Startup coming into this space, understand the various patterns on how pricing works for the existing ride-sharing company.\n",
        "Luckily, you were able to access some real-time data from Uber & Lyft's API and weather data from Weather API conditions.\n",
        "You build a custom application in Scala to query data at regular intervals and saved it to DynamoDB. The queried cab ride estimates are done after every 5 mins and weather data after every 1 hr.\n",
        "The cab ride data covers various types of cabs for Uber & Lyft and their price for the given location. Weather data contains weather attributes like temperature, rain, cloud,  etc for all the locations taken into consideration.\n",
        "\n"
      ],
      "metadata": {
        "id": "ksJTIrHY6wAs"
      }
    },
    {
      "cell_type": "markdown",
      "source": [
        "**Pre-requisites**\n"
      ],
      "metadata": {
        "id": "G6xxwyWGAFDH"
      }
    },
    {
      "cell_type": "code",
      "source": [
        "# load an sql extension. \n",
        "# This extension will allow us to run SQL code in our Notebook.\n",
        "# ---\n",
        "#\n",
        "%load_ext sql"
      ],
      "metadata": {
        "id": "Te-pL283AW3k"
      },
      "execution_count": 1,
      "outputs": []
    },
    {
      "cell_type": "code",
      "source": [
        "# We will then connect to an in memory SQLite database within colaboratory. \n",
        "# Something to note is that this in memory dataset will be deleted as \n",
        "# soon the dataset connection is lost, meaning when our connection to \n",
        "# the servers is disconnected then our database will cease to exist.\n",
        "# ---\n",
        "#  \n",
        "%sql sqlite://"
      ],
      "metadata": {
        "colab": {
          "base_uri": "https://localhost:8080/",
          "height": 35
        },
        "id": "lRCaXmsLAdhk",
        "outputId": "b359a607-087d-4f74-8837-3424d19eb861"
      },
      "execution_count": 2,
      "outputs": [
        {
          "output_type": "execute_result",
          "data": {
            "application/vnd.google.colaboratory.intrinsic+json": {
              "type": "string"
            },
            "text/plain": [
              "'Connected: @None'"
            ]
          },
          "metadata": {},
          "execution_count": 2
        }
      ]
    },
    {
      "cell_type": "code",
      "source": [
        "# We will now need the pandas library to read our csv file from an external the source. \n",
        "# ---\n",
        "import pandas as pd"
      ],
      "metadata": {
        "id": "4ARXNWLcAkZk"
      },
      "execution_count": 3,
      "outputs": []
    },
    {
      "cell_type": "code",
      "source": [
        "cab_rides = pd.read_csv(\"cab_rides.csv\", encoding=\"ISO-8859-1\")\n",
        "\n",
        "\n",
        "\n"
      ],
      "metadata": {
        "id": "H2IA9tENMT8u"
      },
      "execution_count": 21,
      "outputs": []
    },
    {
      "cell_type": "markdown",
      "source": [
        "**Importing** **Data**"
      ],
      "metadata": {
        "id": "Eht-H6rxApZL"
      }
    },
    {
      "cell_type": "code",
      "source": [
        "# We load our first dataset from a csv file as shown then  \n",
        "# after store the dataset in our in memory sqlite database.\n",
        "# We read our dataset from its source and store it in a dataframe \n",
        "# called cab_rides \n",
        "# ---\n",
        "#\n",
        "cab_rides = pd.read_csv('/content/cab_rides.csv') \n",
        "\n",
        "# Then store it in an SQL table of our in memory sqlite database \n",
        "# --- \n",
        "# \n",
        "\n",
        "# We then delete the table if it exists in our database\n",
        "# ---\n",
        "#\n",
        "%sql DROP TABLE IF EXISTS cab_rides;\n",
        "\n",
        "# And finally store our table in the table name insurance within our dataset.\n",
        "# The persist command will create a table in the database to which we are connected, \n",
        "# the table name will be the same as dataframe variable.\n",
        "# ---\n",
        "#\n",
        "%sql PERSIST cab_rides;\n",
        "\n",
        "# Preview the first 5 records of the insurance dataset \n",
        "# ---\n",
        "#\n",
        "%sql SELECT * FROM cab_rides LIMIT 5;"
      ],
      "metadata": {
        "id": "6CR4iZQKAu_w"
      },
      "execution_count": null,
      "outputs": []
    },
    {
      "cell_type": "code",
      "source": [
        "weather = pd.read_csv(\"/content/weather.csv\", encoding=\"ISO-8859-1\")"
      ],
      "metadata": {
        "id": "SNVT3Dx6Qam8"
      },
      "execution_count": 12,
      "outputs": []
    },
    {
      "cell_type": "code",
      "source": [
        "# We load our first dataset from a csv file as shown then  \n",
        "# after store the dataset in our in memory sqlite database.\n",
        "# We read our dataset from its source and store it in a dataframe \n",
        "# called weather\n",
        "# ---\n",
        "#\n",
        "weather = pd.read_csv('/content/weather.csv') \n",
        "\n",
        "# Then store it in an SQL table of our in memory sqlite database \n",
        "# --- \n",
        "# \n",
        "\n",
        "# We then delete the table if it exists in our database\n",
        "# ---\n",
        "#\n",
        "%sql DROP TABLE IF EXISTS weather;\n",
        "\n",
        "# And finally store our table in the table name insurance within our dataset.\n",
        "# The persist command will create a table in the database to which we are connected, \n",
        "# the table name will be the same as dataframe variable.\n",
        "# ---\n",
        "#\n",
        "%sql PERSIST weather;\n",
        "\n",
        "# Preview the first 5 records of the insurance dataset \n",
        "# ---\n",
        "#\n",
        "%sql SELECT * FROM weather LIMIT 5;"
      ],
      "metadata": {
        "colab": {
          "base_uri": "https://localhost:8080/",
          "height": 234
        },
        "id": "xlTxU6UMQlGY",
        "outputId": "472d4b07-be95-4dc4-cba4-8e83328e7ee2"
      },
      "execution_count": 13,
      "outputs": [
        {
          "output_type": "stream",
          "name": "stdout",
          "text": [
            " * sqlite://\n",
            "Done.\n",
            " * sqlite://\n",
            " * sqlite://\n",
            "Done.\n"
          ]
        },
        {
          "output_type": "execute_result",
          "data": {
            "text/html": [
              "<table>\n",
              "    <thead>\n",
              "        <tr>\n",
              "            <th>index</th>\n",
              "            <th>temp</th>\n",
              "            <th>location</th>\n",
              "            <th>clouds</th>\n",
              "            <th>pressure</th>\n",
              "            <th>rain</th>\n",
              "            <th>time_stamp</th>\n",
              "            <th>humidity</th>\n",
              "            <th>wind</th>\n",
              "        </tr>\n",
              "    </thead>\n",
              "    <tbody>\n",
              "        <tr>\n",
              "            <td>0</td>\n",
              "            <td>42.42</td>\n",
              "            <td>Back Bay</td>\n",
              "            <td>1.0</td>\n",
              "            <td>1012.14</td>\n",
              "            <td>0.1228</td>\n",
              "            <td>1545003901</td>\n",
              "            <td>0.77</td>\n",
              "            <td>11.25</td>\n",
              "        </tr>\n",
              "        <tr>\n",
              "            <td>1</td>\n",
              "            <td>42.43</td>\n",
              "            <td>Beacon Hill</td>\n",
              "            <td>1.0</td>\n",
              "            <td>1012.15</td>\n",
              "            <td>0.1846</td>\n",
              "            <td>1545003901</td>\n",
              "            <td>0.76</td>\n",
              "            <td>11.32</td>\n",
              "        </tr>\n",
              "        <tr>\n",
              "            <td>2</td>\n",
              "            <td>42.5</td>\n",
              "            <td>Boston University</td>\n",
              "            <td>1.0</td>\n",
              "            <td>1012.15</td>\n",
              "            <td>0.1089</td>\n",
              "            <td>1545003901</td>\n",
              "            <td>0.76</td>\n",
              "            <td>11.07</td>\n",
              "        </tr>\n",
              "        <tr>\n",
              "            <td>3</td>\n",
              "            <td>42.11</td>\n",
              "            <td>Fenway</td>\n",
              "            <td>1.0</td>\n",
              "            <td>1012.13</td>\n",
              "            <td>0.0969</td>\n",
              "            <td>1545003901</td>\n",
              "            <td>0.77</td>\n",
              "            <td>11.09</td>\n",
              "        </tr>\n",
              "        <tr>\n",
              "            <td>4</td>\n",
              "            <td>43.13</td>\n",
              "            <td>Financial District</td>\n",
              "            <td>1.0</td>\n",
              "            <td>1012.14</td>\n",
              "            <td>0.1786</td>\n",
              "            <td>1545003901</td>\n",
              "            <td>0.75</td>\n",
              "            <td>11.49</td>\n",
              "        </tr>\n",
              "    </tbody>\n",
              "</table>"
            ],
            "text/plain": [
              "[(0, 42.42, 'Back Bay', 1.0, 1012.14, 0.1228, 1545003901, 0.77, 11.25),\n",
              " (1, 42.43, 'Beacon Hill', 1.0, 1012.15, 0.1846, 1545003901, 0.76, 11.32),\n",
              " (2, 42.5, 'Boston University', 1.0, 1012.15, 0.1089, 1545003901, 0.76, 11.07),\n",
              " (3, 42.11, 'Fenway', 1.0, 1012.13, 0.0969, 1545003901, 0.77, 11.09),\n",
              " (4, 43.13, 'Financial District', 1.0, 1012.14, 0.1786, 1545003901, 0.75, 11.49)]"
            ]
          },
          "metadata": {},
          "execution_count": 13
        }
      ]
    },
    {
      "cell_type": "code",
      "source": [
        "#Filtering, Sorting, and Grouping\n",
        "#Perform filtering, sorting, and grouping to explore a dataset using the SQL language\n",
        "\n",
        "#Price choose other alternative location \n",
        "%%sql \n",
        "SELECT SUM(price) AS 'Total Sales from North End'\n",
        "FROM cab_rides\n",
        "WHERE source = 'North End';"
      ],
      "metadata": {
        "id": "-0cSjCl2Jjnk",
        "colab": {
          "base_uri": "https://localhost:8080/",
          "height": 96
        },
        "outputId": "9840a8d4-3cf7-400b-b872-3f0cb24ef452"
      },
      "execution_count": 14,
      "outputs": [
        {
          "output_type": "stream",
          "name": "stdout",
          "text": [
            " * sqlite://\n",
            "Done.\n"
          ]
        },
        {
          "output_type": "execute_result",
          "data": {
            "text/html": [
              "<table>\n",
              "    <thead>\n",
              "        <tr>\n",
              "            <th>Total Sales from North End</th>\n",
              "        </tr>\n",
              "    </thead>\n",
              "    <tbody>\n",
              "        <tr>\n",
              "            <td>805720.0</td>\n",
              "        </tr>\n",
              "    </tbody>\n",
              "</table>"
            ],
            "text/plain": [
              "[(805720.0,)]"
            ]
          },
          "metadata": {},
          "execution_count": 14
        }
      ]
    },
    {
      "cell_type": "code",
      "source": [
        "# Getting the avg weather pattern for locations\n",
        "# ---\n",
        "# get different weather averages\n",
        "%%sql \n",
        "SELECT location, AVG(wind) FROM weather\n",
        "GROUP BY location\n",
        "ORDER BY AVG(wind) DESC\n",
        "LIMIT 8;"
      ],
      "metadata": {
        "colab": {
          "base_uri": "https://localhost:8080/",
          "height": 242
        },
        "id": "3sLtQXq0e4hj",
        "outputId": "b6f92707-7a0c-4217-affb-87e0dd9997b1"
      },
      "execution_count": 15,
      "outputs": [
        {
          "output_type": "stream",
          "name": "stdout",
          "text": [
            " * sqlite://\n",
            "Done.\n"
          ]
        },
        {
          "output_type": "execute_result",
          "data": {
            "text/html": [
              "<table>\n",
              "    <thead>\n",
              "        <tr>\n",
              "            <th>location</th>\n",
              "            <th>AVG(wind)</th>\n",
              "        </tr>\n",
              "    </thead>\n",
              "    <tbody>\n",
              "        <tr>\n",
              "            <td>Financial District</td>\n",
              "            <td>6.860019120458891</td>\n",
              "        </tr>\n",
              "        <tr>\n",
              "            <td>North End</td>\n",
              "            <td>6.8531166347992345</td>\n",
              "        </tr>\n",
              "        <tr>\n",
              "            <td>South Station</td>\n",
              "            <td>6.848948374760993</td>\n",
              "        </tr>\n",
              "        <tr>\n",
              "            <td>Haymarket Square</td>\n",
              "            <td>6.843193116634804</td>\n",
              "        </tr>\n",
              "        <tr>\n",
              "            <td>North Station</td>\n",
              "            <td>6.835755258126191</td>\n",
              "        </tr>\n",
              "        <tr>\n",
              "            <td>Theatre District</td>\n",
              "            <td>6.834302103250482</td>\n",
              "        </tr>\n",
              "        <tr>\n",
              "            <td>West End</td>\n",
              "            <td>6.816233269598474</td>\n",
              "        </tr>\n",
              "        <tr>\n",
              "            <td>Beacon Hill</td>\n",
              "            <td>6.8103250478011494</td>\n",
              "        </tr>\n",
              "    </tbody>\n",
              "</table>"
            ],
            "text/plain": [
              "[('Financial District', 6.860019120458891),\n",
              " ('North End', 6.8531166347992345),\n",
              " ('South Station', 6.848948374760993),\n",
              " ('Haymarket Square', 6.843193116634804),\n",
              " ('North Station', 6.835755258126191),\n",
              " ('Theatre District', 6.834302103250482),\n",
              " ('West End', 6.816233269598474),\n",
              " ('Beacon Hill', 6.8103250478011494)]"
            ]
          },
          "metadata": {},
          "execution_count": 15
        }
      ]
    },
    {
      "cell_type": "code",
      "source": [
        "#Data Formatting\n",
        "#Perform data formatting of numeric data to prepare data for further analysis using the SQL language.\n",
        "\n",
        "%%sql \n",
        "SELECT UPPER(location) AS LOCATION, wind AS WIND\n",
        "FROM weather \n",
        "LIMIT 5; "
      ],
      "metadata": {
        "id": "7o12sCWPJlm9",
        "colab": {
          "base_uri": "https://localhost:8080/",
          "height": 182
        },
        "outputId": "19cfd4ba-7980-43ae-f6cb-c67fe963c63d"
      },
      "execution_count": null,
      "outputs": [
        {
          "output_type": "stream",
          "name": "stdout",
          "text": [
            " * sqlite://\n",
            "Done.\n"
          ]
        },
        {
          "output_type": "execute_result",
          "data": {
            "text/html": [
              "<table>\n",
              "    <thead>\n",
              "        <tr>\n",
              "            <th>LOCATION</th>\n",
              "            <th>WIND</th>\n",
              "        </tr>\n",
              "    </thead>\n",
              "    <tbody>\n",
              "        <tr>\n",
              "            <td>BACK BAY</td>\n",
              "            <td>11.25</td>\n",
              "        </tr>\n",
              "        <tr>\n",
              "            <td>BEACON HILL</td>\n",
              "            <td>11.32</td>\n",
              "        </tr>\n",
              "        <tr>\n",
              "            <td>BOSTON UNIVERSITY</td>\n",
              "            <td>11.07</td>\n",
              "        </tr>\n",
              "        <tr>\n",
              "            <td>FENWAY</td>\n",
              "            <td>11.09</td>\n",
              "        </tr>\n",
              "        <tr>\n",
              "            <td>FINANCIAL DISTRICT</td>\n",
              "            <td>11.49</td>\n",
              "        </tr>\n",
              "    </tbody>\n",
              "</table>"
            ],
            "text/plain": [
              "[('BACK BAY', 11.25),\n",
              " ('BEACON HILL', 11.32),\n",
              " ('BOSTON UNIVERSITY', 11.07),\n",
              " ('FENWAY', 11.09),\n",
              " ('FINANCIAL DISTRICT', 11.49)]"
            ]
          },
          "metadata": {},
          "execution_count": 12
        }
      ]
    },
    {
      "cell_type": "code",
      "source": [
        "#\n",
        "\n",
        "%%sql \n",
        "SELECT location AS LOCATION, ROUND(wind, 1) AS Wind \n",
        "FROM weather LIMIT 5;"
      ],
      "metadata": {
        "colab": {
          "base_uri": "https://localhost:8080/",
          "height": 180
        },
        "id": "9bphX9_WlAqQ",
        "outputId": "90e10505-a564-4dcd-c9d3-c253fd011564"
      },
      "execution_count": 16,
      "outputs": [
        {
          "output_type": "stream",
          "name": "stdout",
          "text": [
            " * sqlite://\n",
            "Done.\n"
          ]
        },
        {
          "output_type": "execute_result",
          "data": {
            "text/html": [
              "<table>\n",
              "    <thead>\n",
              "        <tr>\n",
              "            <th>LOCATION</th>\n",
              "            <th>Wind</th>\n",
              "        </tr>\n",
              "    </thead>\n",
              "    <tbody>\n",
              "        <tr>\n",
              "            <td>Back Bay</td>\n",
              "            <td>11.3</td>\n",
              "        </tr>\n",
              "        <tr>\n",
              "            <td>Beacon Hill</td>\n",
              "            <td>11.3</td>\n",
              "        </tr>\n",
              "        <tr>\n",
              "            <td>Boston University</td>\n",
              "            <td>11.1</td>\n",
              "        </tr>\n",
              "        <tr>\n",
              "            <td>Fenway</td>\n",
              "            <td>11.1</td>\n",
              "        </tr>\n",
              "        <tr>\n",
              "            <td>Financial District</td>\n",
              "            <td>11.5</td>\n",
              "        </tr>\n",
              "    </tbody>\n",
              "</table>"
            ],
            "text/plain": [
              "[('Back Bay', 11.3),\n",
              " ('Beacon Hill', 11.3),\n",
              " ('Boston University', 11.1),\n",
              " ('Fenway', 11.1),\n",
              " ('Financial District', 11.5)]"
            ]
          },
          "metadata": {},
          "execution_count": 16
        }
      ]
    },
    {
      "cell_type": "code",
      "source": [
        "#Basic Statistical Techniques\n",
        "#Perform basic statistical techniques using COUNT, MIN, MAX, and SUM functions using the SQL language.\n",
        "\n",
        "%%sql \n",
        "SELECT cab_type, COUNT(source), SUM(price) FROM cab_rides\n",
        "WHERE source = 'Financial District'\n",
        "GROUP BY cab_type \n",
        "ORDER BY SUM(price) DESC\n",
        "LIMIT 5;"
      ],
      "metadata": {
        "id": "9Tck_CtnJvft",
        "colab": {
          "base_uri": "https://localhost:8080/",
          "height": 117
        },
        "outputId": "a7531c4d-fa02-42cf-8a63-e976bef4bc48"
      },
      "execution_count": 17,
      "outputs": [
        {
          "output_type": "stream",
          "name": "stdout",
          "text": [
            " * sqlite://\n",
            "Done.\n"
          ]
        },
        {
          "output_type": "execute_result",
          "data": {
            "text/html": [
              "<table>\n",
              "    <thead>\n",
              "        <tr>\n",
              "            <th>cab_type</th>\n",
              "            <th>COUNT(source)</th>\n",
              "            <th>SUM(price)</th>\n",
              "        </tr>\n",
              "    </thead>\n",
              "    <tbody>\n",
              "        <tr>\n",
              "            <td>Lyft</td>\n",
              "            <td>26237</td>\n",
              "            <td>493100.79999999993</td>\n",
              "        </tr>\n",
              "        <tr>\n",
              "            <td>Uber</td>\n",
              "            <td>32620</td>\n",
              "            <td>492275.0</td>\n",
              "        </tr>\n",
              "    </tbody>\n",
              "</table>"
            ],
            "text/plain": [
              "[('Lyft', 26237, 493100.79999999993), ('Uber', 32620, 492275.0)]"
            ]
          },
          "metadata": {},
          "execution_count": 17
        }
      ]
    },
    {
      "cell_type": "code",
      "source": [
        "%%sql \n",
        "SELECT cab_type, source, Count(cab_type) FROM cab_rides\n",
        "GROUP BY source\n",
        "ORDER BY cab_type ASC\n",
        "LIMIT 10;"
      ],
      "metadata": {
        "colab": {
          "base_uri": "https://localhost:8080/",
          "height": 284
        },
        "id": "IBxzlOJio5QM",
        "outputId": "cbd17f33-4d69-48c3-ccd6-068a0e4fbc2a"
      },
      "execution_count": 19,
      "outputs": [
        {
          "output_type": "stream",
          "name": "stdout",
          "text": [
            " * sqlite://\n",
            "Done.\n"
          ]
        },
        {
          "output_type": "execute_result",
          "data": {
            "text/html": [
              "<table>\n",
              "    <thead>\n",
              "        <tr>\n",
              "            <th>cab_type</th>\n",
              "            <th>source</th>\n",
              "            <th>Count(cab_type)</th>\n",
              "        </tr>\n",
              "    </thead>\n",
              "    <tbody>\n",
              "        <tr>\n",
              "            <td>Lyft</td>\n",
              "            <td>Financial District</td>\n",
              "            <td>58857</td>\n",
              "        </tr>\n",
              "        <tr>\n",
              "            <td>Lyft</td>\n",
              "            <td>Northeastern University</td>\n",
              "            <td>57756</td>\n",
              "        </tr>\n",
              "        <tr>\n",
              "            <td>Uber</td>\n",
              "            <td>Back Bay</td>\n",
              "            <td>57792</td>\n",
              "        </tr>\n",
              "        <tr>\n",
              "            <td>Uber</td>\n",
              "            <td>Beacon Hill</td>\n",
              "            <td>57403</td>\n",
              "        </tr>\n",
              "        <tr>\n",
              "            <td>Uber</td>\n",
              "            <td>Boston University</td>\n",
              "            <td>57764</td>\n",
              "        </tr>\n",
              "        <tr>\n",
              "            <td>Uber</td>\n",
              "            <td>Fenway</td>\n",
              "            <td>57757</td>\n",
              "        </tr>\n",
              "        <tr>\n",
              "            <td>Uber</td>\n",
              "            <td>Haymarket Square</td>\n",
              "            <td>57736</td>\n",
              "        </tr>\n",
              "        <tr>\n",
              "            <td>Uber</td>\n",
              "            <td>North End</td>\n",
              "            <td>57763</td>\n",
              "        </tr>\n",
              "        <tr>\n",
              "            <td>Uber</td>\n",
              "            <td>North Station</td>\n",
              "            <td>57118</td>\n",
              "        </tr>\n",
              "        <tr>\n",
              "            <td>Uber</td>\n",
              "            <td>South Station</td>\n",
              "            <td>57750</td>\n",
              "        </tr>\n",
              "    </tbody>\n",
              "</table>"
            ],
            "text/plain": [
              "[('Lyft', 'Financial District', 58857),\n",
              " ('Lyft', 'Northeastern University', 57756),\n",
              " ('Uber', 'Back Bay', 57792),\n",
              " ('Uber', 'Beacon Hill', 57403),\n",
              " ('Uber', 'Boston University', 57764),\n",
              " ('Uber', 'Fenway', 57757),\n",
              " ('Uber', 'Haymarket Square', 57736),\n",
              " ('Uber', 'North End', 57763),\n",
              " ('Uber', 'North Station', 57118),\n",
              " ('Uber', 'South Station', 57750)]"
            ]
          },
          "metadata": {},
          "execution_count": 19
        }
      ]
    },
    {
      "cell_type": "code",
      "source": [
        "%%sql \n",
        "SELECT cab_type, product_id, source, SUM(price) FROM cab_rides\n",
        "GROUP BY source\n",
        "ORDER BY source DESC\n",
        "LIMIT 10;\n",
        "\n"
      ],
      "metadata": {
        "colab": {
          "base_uri": "https://localhost:8080/",
          "height": 284
        },
        "id": "I9iZprHWqLBl",
        "outputId": "9a50c90e-11a5-4d10-aa20-ea865c64df00"
      },
      "execution_count": 18,
      "outputs": [
        {
          "output_type": "stream",
          "name": "stdout",
          "text": [
            " * sqlite://\n",
            "Done.\n"
          ]
        },
        {
          "output_type": "execute_result",
          "data": {
            "text/html": [
              "<table>\n",
              "    <thead>\n",
              "        <tr>\n",
              "            <th>cab_type</th>\n",
              "            <th>product_id</th>\n",
              "            <th>source</th>\n",
              "            <th>SUM(price)</th>\n",
              "        </tr>\n",
              "    </thead>\n",
              "    <tbody>\n",
              "        <tr>\n",
              "            <td>Uber</td>\n",
              "            <td>997acbb5-e102-41e1-b155-9df7de0a73f2</td>\n",
              "            <td>West End</td>\n",
              "            <td>853428.2</td>\n",
              "        </tr>\n",
              "        <tr>\n",
              "            <td>Uber</td>\n",
              "            <td>6d318bcc-22a3-4af6-bddd-b409bfce1546</td>\n",
              "            <td>Theatre District</td>\n",
              "            <td>882976.7</td>\n",
              "        </tr>\n",
              "        <tr>\n",
              "            <td>Uber</td>\n",
              "            <td>997acbb5-e102-41e1-b155-9df7de0a73f2</td>\n",
              "            <td>South Station</td>\n",
              "            <td>833149.0</td>\n",
              "        </tr>\n",
              "        <tr>\n",
              "            <td>Lyft</td>\n",
              "            <td>lyft_premier</td>\n",
              "            <td>Northeastern University</td>\n",
              "            <td>951695.35</td>\n",
              "        </tr>\n",
              "        <tr>\n",
              "            <td>Uber</td>\n",
              "            <td>6f72dfc5-27f1-42e8-84db-ccc7a75f6969</td>\n",
              "            <td>North Station</td>\n",
              "            <td>860354.0</td>\n",
              "        </tr>\n",
              "        <tr>\n",
              "            <td>Uber</td>\n",
              "            <td>997acbb5-e102-41e1-b155-9df7de0a73f2</td>\n",
              "            <td>North End</td>\n",
              "            <td>805720.0</td>\n",
              "        </tr>\n",
              "        <tr>\n",
              "            <td>Uber</td>\n",
              "            <td>9a0e7b09-b92b-4c41-9779-2ad22b4d779d</td>\n",
              "            <td>Haymarket Square</td>\n",
              "            <td>721636.0</td>\n",
              "        </tr>\n",
              "        <tr>\n",
              "            <td>Lyft</td>\n",
              "            <td>lyft_luxsuv</td>\n",
              "            <td>Financial District</td>\n",
              "            <td>985375.7999999999</td>\n",
              "        </tr>\n",
              "        <tr>\n",
              "            <td>Uber</td>\n",
              "            <td>8cf7e821-f0d3-49c6-8eba-e679c0ebcf6a</td>\n",
              "            <td>Fenway</td>\n",
              "            <td>977164.0</td>\n",
              "        </tr>\n",
              "        <tr>\n",
              "            <td>Uber</td>\n",
              "            <td>997acbb5-e102-41e1-b155-9df7de0a73f2</td>\n",
              "            <td>Boston University</td>\n",
              "            <td>1002453.5</td>\n",
              "        </tr>\n",
              "    </tbody>\n",
              "</table>"
            ],
            "text/plain": [
              "[('Uber', '997acbb5-e102-41e1-b155-9df7de0a73f2', 'West End', 853428.2),\n",
              " ('Uber', '6d318bcc-22a3-4af6-bddd-b409bfce1546', 'Theatre District', 882976.7),\n",
              " ('Uber', '997acbb5-e102-41e1-b155-9df7de0a73f2', 'South Station', 833149.0),\n",
              " ('Lyft', 'lyft_premier', 'Northeastern University', 951695.35),\n",
              " ('Uber', '6f72dfc5-27f1-42e8-84db-ccc7a75f6969', 'North Station', 860354.0),\n",
              " ('Uber', '997acbb5-e102-41e1-b155-9df7de0a73f2', 'North End', 805720.0),\n",
              " ('Uber', '9a0e7b09-b92b-4c41-9779-2ad22b4d779d', 'Haymarket Square', 721636.0),\n",
              " ('Lyft', 'lyft_luxsuv', 'Financial District', 985375.7999999999),\n",
              " ('Uber', '8cf7e821-f0d3-49c6-8eba-e679c0ebcf6a', 'Fenway', 977164.0),\n",
              " ('Uber', '997acbb5-e102-41e1-b155-9df7de0a73f2', 'Boston University', 1002453.5)]"
            ]
          },
          "metadata": {},
          "execution_count": 18
        }
      ]
    },
    {
      "cell_type": "code",
      "source": [
        "%%sql\n",
        "SELECT *\n",
        "FROM cab_rides, weather\n",
        "WHERE cab_rides.destination = weather.location\n",
        "LIMIT 15;"
      ],
      "metadata": {
        "colab": {
          "base_uri": "https://localhost:8080/",
          "height": 1000
        },
        "id": "kTjPESlMuplV",
        "outputId": "a7fd46fc-a510-4f61-f7e0-158943bcf6da"
      },
      "execution_count": 20,
      "outputs": [
        {
          "output_type": "stream",
          "name": "stdout",
          "text": [
            " * sqlite://\n",
            "Done.\n"
          ]
        },
        {
          "output_type": "execute_result",
          "data": {
            "text/html": [
              "<table>\n",
              "    <thead>\n",
              "        <tr>\n",
              "            <th>index</th>\n",
              "            <th>distance</th>\n",
              "            <th>cab_type</th>\n",
              "            <th>time_stamp</th>\n",
              "            <th>destination</th>\n",
              "            <th>source</th>\n",
              "            <th>price</th>\n",
              "            <th>surge_multiplier</th>\n",
              "            <th>id</th>\n",
              "            <th>product_id</th>\n",
              "            <th>name</th>\n",
              "            <th>index_1</th>\n",
              "            <th>temp</th>\n",
              "            <th>location</th>\n",
              "            <th>clouds</th>\n",
              "            <th>pressure</th>\n",
              "            <th>rain</th>\n",
              "            <th>time_stamp_1</th>\n",
              "            <th>humidity</th>\n",
              "            <th>wind</th>\n",
              "        </tr>\n",
              "    </thead>\n",
              "    <tbody>\n",
              "        <tr>\n",
              "            <td>0</td>\n",
              "            <td>0.44</td>\n",
              "            <td>Lyft</td>\n",
              "            <td>1544950000000.0</td>\n",
              "            <td>North Station</td>\n",
              "            <td>Haymarket Square</td>\n",
              "            <td>5.0</td>\n",
              "            <td>1</td>\n",
              "            <td>424553bb-7174-41ea-aeb4-fe06d4f4b9d7</td>\n",
              "            <td>lyft_line</td>\n",
              "            <td>Shared</td>\n",
              "            <td>7</td>\n",
              "            <td>42.21</td>\n",
              "            <td>North Station</td>\n",
              "            <td>1.0</td>\n",
              "            <td>1012.16</td>\n",
              "            <td>0.2069</td>\n",
              "            <td>1545003901</td>\n",
              "            <td>0.77</td>\n",
              "            <td>11.37</td>\n",
              "        </tr>\n",
              "        <tr>\n",
              "            <td>0</td>\n",
              "            <td>0.44</td>\n",
              "            <td>Lyft</td>\n",
              "            <td>1544950000000.0</td>\n",
              "            <td>North Station</td>\n",
              "            <td>Haymarket Square</td>\n",
              "            <td>5.0</td>\n",
              "            <td>1</td>\n",
              "            <td>424553bb-7174-41ea-aeb4-fe06d4f4b9d7</td>\n",
              "            <td>lyft_line</td>\n",
              "            <td>Shared</td>\n",
              "            <td>18</td>\n",
              "            <td>41.95</td>\n",
              "            <td>North Station</td>\n",
              "            <td>0.81</td>\n",
              "            <td>991.63</td>\n",
              "            <td>None</td>\n",
              "            <td>1543347920</td>\n",
              "            <td>0.73</td>\n",
              "            <td>10.87</td>\n",
              "        </tr>\n",
              "        <tr>\n",
              "            <td>0</td>\n",
              "            <td>0.44</td>\n",
              "            <td>Lyft</td>\n",
              "            <td>1544950000000.0</td>\n",
              "            <td>North Station</td>\n",
              "            <td>Haymarket Square</td>\n",
              "            <td>5.0</td>\n",
              "            <td>1</td>\n",
              "            <td>424553bb-7174-41ea-aeb4-fe06d4f4b9d7</td>\n",
              "            <td>lyft_line</td>\n",
              "            <td>Shared</td>\n",
              "            <td>23</td>\n",
              "            <td>43.92</td>\n",
              "            <td>North Station</td>\n",
              "            <td>1.0</td>\n",
              "            <td>1006.29</td>\n",
              "            <td>0.0409</td>\n",
              "            <td>1543277833</td>\n",
              "            <td>0.9</td>\n",
              "            <td>10.09</td>\n",
              "        </tr>\n",
              "        <tr>\n",
              "            <td>0</td>\n",
              "            <td>0.44</td>\n",
              "            <td>Lyft</td>\n",
              "            <td>1544950000000.0</td>\n",
              "            <td>North Station</td>\n",
              "            <td>Haymarket Square</td>\n",
              "            <td>5.0</td>\n",
              "            <td>1</td>\n",
              "            <td>424553bb-7174-41ea-aeb4-fe06d4f4b9d7</td>\n",
              "            <td>lyft_line</td>\n",
              "            <td>Shared</td>\n",
              "            <td>43</td>\n",
              "            <td>27.22</td>\n",
              "            <td>North Station</td>\n",
              "            <td>0.15</td>\n",
              "            <td>1033.4</td>\n",
              "            <td>None</td>\n",
              "            <td>1544787901</td>\n",
              "            <td>0.81</td>\n",
              "            <td>3.01</td>\n",
              "        </tr>\n",
              "        <tr>\n",
              "            <td>0</td>\n",
              "            <td>0.44</td>\n",
              "            <td>Lyft</td>\n",
              "            <td>1544950000000.0</td>\n",
              "            <td>North Station</td>\n",
              "            <td>Haymarket Square</td>\n",
              "            <td>5.0</td>\n",
              "            <td>1</td>\n",
              "            <td>424553bb-7174-41ea-aeb4-fe06d4f4b9d7</td>\n",
              "            <td>lyft_line</td>\n",
              "            <td>Shared</td>\n",
              "            <td>54</td>\n",
              "            <td>45.47</td>\n",
              "            <td>North Station</td>\n",
              "            <td>1.0</td>\n",
              "            <td>1012.47</td>\n",
              "            <td>None</td>\n",
              "            <td>1543253710</td>\n",
              "            <td>0.86</td>\n",
              "            <td>6.5</td>\n",
              "        </tr>\n",
              "        <tr>\n",
              "            <td>0</td>\n",
              "            <td>0.44</td>\n",
              "            <td>Lyft</td>\n",
              "            <td>1544950000000.0</td>\n",
              "            <td>North Station</td>\n",
              "            <td>Haymarket Square</td>\n",
              "            <td>5.0</td>\n",
              "            <td>1</td>\n",
              "            <td>424553bb-7174-41ea-aeb4-fe06d4f4b9d7</td>\n",
              "            <td>lyft_line</td>\n",
              "            <td>Shared</td>\n",
              "            <td>66</td>\n",
              "            <td>45.86</td>\n",
              "            <td>North Station</td>\n",
              "            <td>0.99</td>\n",
              "            <td>1021.64</td>\n",
              "            <td>None</td>\n",
              "            <td>1544870701</td>\n",
              "            <td>0.9</td>\n",
              "            <td>5.68</td>\n",
              "        </tr>\n",
              "        <tr>\n",
              "            <td>0</td>\n",
              "            <td>0.44</td>\n",
              "            <td>Lyft</td>\n",
              "            <td>1544950000000.0</td>\n",
              "            <td>North Station</td>\n",
              "            <td>Haymarket Square</td>\n",
              "            <td>5.0</td>\n",
              "            <td>1</td>\n",
              "            <td>424553bb-7174-41ea-aeb4-fe06d4f4b9d7</td>\n",
              "            <td>lyft_line</td>\n",
              "            <td>Shared</td>\n",
              "            <td>77</td>\n",
              "            <td>44.44</td>\n",
              "            <td>North Station</td>\n",
              "            <td>0.19</td>\n",
              "            <td>1029.99</td>\n",
              "            <td>None</td>\n",
              "            <td>1544813101</td>\n",
              "            <td>0.61</td>\n",
              "            <td>3.39</td>\n",
              "        </tr>\n",
              "        <tr>\n",
              "            <td>0</td>\n",
              "            <td>0.44</td>\n",
              "            <td>Lyft</td>\n",
              "            <td>1544950000000.0</td>\n",
              "            <td>North Station</td>\n",
              "            <td>Haymarket Square</td>\n",
              "            <td>5.0</td>\n",
              "            <td>1</td>\n",
              "            <td>424553bb-7174-41ea-aeb4-fe06d4f4b9d7</td>\n",
              "            <td>lyft_line</td>\n",
              "            <td>Shared</td>\n",
              "            <td>87</td>\n",
              "            <td>39.92</td>\n",
              "            <td>North Station</td>\n",
              "            <td>0.95</td>\n",
              "            <td>1000.89</td>\n",
              "            <td>None</td>\n",
              "            <td>1545068701</td>\n",
              "            <td>0.81</td>\n",
              "            <td>6.42</td>\n",
              "        </tr>\n",
              "        <tr>\n",
              "            <td>0</td>\n",
              "            <td>0.44</td>\n",
              "            <td>Lyft</td>\n",
              "            <td>1544950000000.0</td>\n",
              "            <td>North Station</td>\n",
              "            <td>Haymarket Square</td>\n",
              "            <td>5.0</td>\n",
              "            <td>1</td>\n",
              "            <td>424553bb-7174-41ea-aeb4-fe06d4f4b9d7</td>\n",
              "            <td>lyft_line</td>\n",
              "            <td>Shared</td>\n",
              "            <td>99</td>\n",
              "            <td>38.44</td>\n",
              "            <td>North Station</td>\n",
              "            <td>0.75</td>\n",
              "            <td>996.8</td>\n",
              "            <td>None</td>\n",
              "            <td>1543451968</td>\n",
              "            <td>0.69</td>\n",
              "            <td>11.07</td>\n",
              "        </tr>\n",
              "        <tr>\n",
              "            <td>0</td>\n",
              "            <td>0.44</td>\n",
              "            <td>Lyft</td>\n",
              "            <td>1544950000000.0</td>\n",
              "            <td>North Station</td>\n",
              "            <td>Haymarket Square</td>\n",
              "            <td>5.0</td>\n",
              "            <td>1</td>\n",
              "            <td>424553bb-7174-41ea-aeb4-fe06d4f4b9d7</td>\n",
              "            <td>lyft_line</td>\n",
              "            <td>Shared</td>\n",
              "            <td>113</td>\n",
              "            <td>36.74</td>\n",
              "            <td>North Station</td>\n",
              "            <td>0.4</td>\n",
              "            <td>1023.64</td>\n",
              "            <td>None</td>\n",
              "            <td>1543708374</td>\n",
              "            <td>0.76</td>\n",
              "            <td>2.51</td>\n",
              "        </tr>\n",
              "        <tr>\n",
              "            <td>0</td>\n",
              "            <td>0.44</td>\n",
              "            <td>Lyft</td>\n",
              "            <td>1544950000000.0</td>\n",
              "            <td>North Station</td>\n",
              "            <td>Haymarket Square</td>\n",
              "            <td>5.0</td>\n",
              "            <td>1</td>\n",
              "            <td>424553bb-7174-41ea-aeb4-fe06d4f4b9d7</td>\n",
              "            <td>lyft_line</td>\n",
              "            <td>Shared</td>\n",
              "            <td>123</td>\n",
              "            <td>33.46</td>\n",
              "            <td>North Station</td>\n",
              "            <td>0.12</td>\n",
              "            <td>991.2</td>\n",
              "            <td>None</td>\n",
              "            <td>1543398556</td>\n",
              "            <td>0.83</td>\n",
              "            <td>5.37</td>\n",
              "        </tr>\n",
              "        <tr>\n",
              "            <td>0</td>\n",
              "            <td>0.44</td>\n",
              "            <td>Lyft</td>\n",
              "            <td>1544950000000.0</td>\n",
              "            <td>North Station</td>\n",
              "            <td>Haymarket Square</td>\n",
              "            <td>5.0</td>\n",
              "            <td>1</td>\n",
              "            <td>424553bb-7174-41ea-aeb4-fe06d4f4b9d7</td>\n",
              "            <td>lyft_line</td>\n",
              "            <td>Shared</td>\n",
              "            <td>140</td>\n",
              "            <td>25.4</td>\n",
              "            <td>North Station</td>\n",
              "            <td>0.8</td>\n",
              "            <td>1006.2</td>\n",
              "            <td>None</td>\n",
              "            <td>1545129901</td>\n",
              "            <td>0.53</td>\n",
              "            <td>18.09</td>\n",
              "        </tr>\n",
              "        <tr>\n",
              "            <td>0</td>\n",
              "            <td>0.44</td>\n",
              "            <td>Lyft</td>\n",
              "            <td>1544950000000.0</td>\n",
              "            <td>North Station</td>\n",
              "            <td>Haymarket Square</td>\n",
              "            <td>5.0</td>\n",
              "            <td>1</td>\n",
              "            <td>424553bb-7174-41ea-aeb4-fe06d4f4b9d7</td>\n",
              "            <td>lyft_line</td>\n",
              "            <td>Shared</td>\n",
              "            <td>152</td>\n",
              "            <td>28.78</td>\n",
              "            <td>North Station</td>\n",
              "            <td>0.28</td>\n",
              "            <td>1021.47</td>\n",
              "            <td>None</td>\n",
              "            <td>1544409657</td>\n",
              "            <td>0.6</td>\n",
              "            <td>5.2</td>\n",
              "        </tr>\n",
              "        <tr>\n",
              "            <td>0</td>\n",
              "            <td>0.44</td>\n",
              "            <td>Lyft</td>\n",
              "            <td>1544950000000.0</td>\n",
              "            <td>North Station</td>\n",
              "            <td>Haymarket Square</td>\n",
              "            <td>5.0</td>\n",
              "            <td>1</td>\n",
              "            <td>424553bb-7174-41ea-aeb4-fe06d4f4b9d7</td>\n",
              "            <td>lyft_line</td>\n",
              "            <td>Shared</td>\n",
              "            <td>165</td>\n",
              "            <td>40.35</td>\n",
              "            <td>North Station</td>\n",
              "            <td>0.92</td>\n",
              "            <td>1013.8</td>\n",
              "            <td>None</td>\n",
              "            <td>1543210083</td>\n",
              "            <td>0.93</td>\n",
              "            <td>2.66</td>\n",
              "        </tr>\n",
              "        <tr>\n",
              "            <td>0</td>\n",
              "            <td>0.44</td>\n",
              "            <td>Lyft</td>\n",
              "            <td>1544950000000.0</td>\n",
              "            <td>North Station</td>\n",
              "            <td>Haymarket Square</td>\n",
              "            <td>5.0</td>\n",
              "            <td>1</td>\n",
              "            <td>424553bb-7174-41ea-aeb4-fe06d4f4b9d7</td>\n",
              "            <td>lyft_line</td>\n",
              "            <td>Shared</td>\n",
              "            <td>174</td>\n",
              "            <td>42.4</td>\n",
              "            <td>North Station</td>\n",
              "            <td>0.58</td>\n",
              "            <td>1007.66</td>\n",
              "            <td>None</td>\n",
              "            <td>1543521174</td>\n",
              "            <td>0.54</td>\n",
              "            <td>10.8</td>\n",
              "        </tr>\n",
              "    </tbody>\n",
              "</table>"
            ],
            "text/plain": [
              "[(0, 0.44, 'Lyft', 1544950000000.0, 'North Station', 'Haymarket Square', 5.0, 1, '424553bb-7174-41ea-aeb4-fe06d4f4b9d7', 'lyft_line', 'Shared', 7, 42.21, 'North Station', 1.0, 1012.16, 0.2069, 1545003901, 0.77, 11.37),\n",
              " (0, 0.44, 'Lyft', 1544950000000.0, 'North Station', 'Haymarket Square', 5.0, 1, '424553bb-7174-41ea-aeb4-fe06d4f4b9d7', 'lyft_line', 'Shared', 18, 41.95, 'North Station', 0.81, 991.63, None, 1543347920, 0.73, 10.87),\n",
              " (0, 0.44, 'Lyft', 1544950000000.0, 'North Station', 'Haymarket Square', 5.0, 1, '424553bb-7174-41ea-aeb4-fe06d4f4b9d7', 'lyft_line', 'Shared', 23, 43.92, 'North Station', 1.0, 1006.29, 0.0409, 1543277833, 0.9, 10.09),\n",
              " (0, 0.44, 'Lyft', 1544950000000.0, 'North Station', 'Haymarket Square', 5.0, 1, '424553bb-7174-41ea-aeb4-fe06d4f4b9d7', 'lyft_line', 'Shared', 43, 27.22, 'North Station', 0.15, 1033.4, None, 1544787901, 0.81, 3.01),\n",
              " (0, 0.44, 'Lyft', 1544950000000.0, 'North Station', 'Haymarket Square', 5.0, 1, '424553bb-7174-41ea-aeb4-fe06d4f4b9d7', 'lyft_line', 'Shared', 54, 45.47, 'North Station', 1.0, 1012.47, None, 1543253710, 0.86, 6.5),\n",
              " (0, 0.44, 'Lyft', 1544950000000.0, 'North Station', 'Haymarket Square', 5.0, 1, '424553bb-7174-41ea-aeb4-fe06d4f4b9d7', 'lyft_line', 'Shared', 66, 45.86, 'North Station', 0.99, 1021.64, None, 1544870701, 0.9, 5.68),\n",
              " (0, 0.44, 'Lyft', 1544950000000.0, 'North Station', 'Haymarket Square', 5.0, 1, '424553bb-7174-41ea-aeb4-fe06d4f4b9d7', 'lyft_line', 'Shared', 77, 44.44, 'North Station', 0.19, 1029.99, None, 1544813101, 0.61, 3.39),\n",
              " (0, 0.44, 'Lyft', 1544950000000.0, 'North Station', 'Haymarket Square', 5.0, 1, '424553bb-7174-41ea-aeb4-fe06d4f4b9d7', 'lyft_line', 'Shared', 87, 39.92, 'North Station', 0.95, 1000.89, None, 1545068701, 0.81, 6.42),\n",
              " (0, 0.44, 'Lyft', 1544950000000.0, 'North Station', 'Haymarket Square', 5.0, 1, '424553bb-7174-41ea-aeb4-fe06d4f4b9d7', 'lyft_line', 'Shared', 99, 38.44, 'North Station', 0.75, 996.8, None, 1543451968, 0.69, 11.07),\n",
              " (0, 0.44, 'Lyft', 1544950000000.0, 'North Station', 'Haymarket Square', 5.0, 1, '424553bb-7174-41ea-aeb4-fe06d4f4b9d7', 'lyft_line', 'Shared', 113, 36.74, 'North Station', 0.4, 1023.64, None, 1543708374, 0.76, 2.51),\n",
              " (0, 0.44, 'Lyft', 1544950000000.0, 'North Station', 'Haymarket Square', 5.0, 1, '424553bb-7174-41ea-aeb4-fe06d4f4b9d7', 'lyft_line', 'Shared', 123, 33.46, 'North Station', 0.12, 991.2, None, 1543398556, 0.83, 5.37),\n",
              " (0, 0.44, 'Lyft', 1544950000000.0, 'North Station', 'Haymarket Square', 5.0, 1, '424553bb-7174-41ea-aeb4-fe06d4f4b9d7', 'lyft_line', 'Shared', 140, 25.4, 'North Station', 0.8, 1006.2, None, 1545129901, 0.53, 18.09),\n",
              " (0, 0.44, 'Lyft', 1544950000000.0, 'North Station', 'Haymarket Square', 5.0, 1, '424553bb-7174-41ea-aeb4-fe06d4f4b9d7', 'lyft_line', 'Shared', 152, 28.78, 'North Station', 0.28, 1021.47, None, 1544409657, 0.6, 5.2),\n",
              " (0, 0.44, 'Lyft', 1544950000000.0, 'North Station', 'Haymarket Square', 5.0, 1, '424553bb-7174-41ea-aeb4-fe06d4f4b9d7', 'lyft_line', 'Shared', 165, 40.35, 'North Station', 0.92, 1013.8, None, 1543210083, 0.93, 2.66),\n",
              " (0, 0.44, 'Lyft', 1544950000000.0, 'North Station', 'Haymarket Square', 5.0, 1, '424553bb-7174-41ea-aeb4-fe06d4f4b9d7', 'lyft_line', 'Shared', 174, 42.4, 'North Station', 0.58, 1007.66, None, 1543521174, 0.54, 10.8)]"
            ]
          },
          "metadata": {},
          "execution_count": 20
        }
      ]
    }
  ]
}